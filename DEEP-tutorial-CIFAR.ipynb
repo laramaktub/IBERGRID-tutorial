{
 "cells": [
  {
   "cell_type": "markdown",
   "metadata": {},
   "source": [
    "\n",
    "<img src=\"https://deep-hybrid-datacloud.eu/wp-content/uploads/sites/2/2018/01/logo.png\" width=\"100\">"
   ]
  },
  {
   "cell_type": "markdown",
   "metadata": {},
   "source": [
    "<h1><center>DEEP-HybridDataCloud tutorial: Integrating a simple Keras application</center></h1>"
   ]
  },
  {
   "cell_type": "markdown",
   "metadata": {},
   "source": [
    "This tutorial will guide you through the integration of a simple Deep Learning model (CIFAR10 image classification using Keras) with the API architecture. For more details you can check the [DEEP documentation repository](http://docs.deep-hybrid-datacloud.eu \"DEEP docs\")\n",
    "\n",
    "\n"
   ]
  },
  {
   "cell_type": "markdown",
   "metadata": {},
   "source": [
    "For running this tutorial we are going to be using a [Docker container](https://www.docker.com). A Docker container image is a lightweight, standalone, executable package of software that includes everything needed to run an application: code, runtime, system tools, system libraries and settings. This means that the user doesn't have to worry about all these details and can focus only on the use/development of the application."
   ]
  },
  {
   "cell_type": "markdown",
   "metadata": {},
   "source": [
    "First of all, we need to **install cookiecutter** which creates projects from project templates:\n",
    "    "
   ]
  },
  {
   "cell_type": "raw",
   "metadata": {},
   "source": [
    "pip install cookiecutter"
   ]
  },
  {
   "cell_type": "markdown",
   "metadata": {},
   "source": [
    "Now that we have cookiecutter installed, we can generate the template for our project:"
   ]
  },
  {
   "cell_type": "raw",
   "metadata": {},
   "source": [
    "cookiecutter https://github.com/indigo-dc/cookiecutter-data-science"
   ]
  },
  {
   "cell_type": "markdown",
   "metadata": {},
   "source": [
    "The template for the project will be downloaded and you will be asked several questions. Take into account that you should have a github account:"
   ]
  },
  {
   "cell_type": "raw",
   "metadata": {},
   "source": [
    "git_base_url [https://github.com/deephdc]: https://github.com/your_github_user\n",
    "project_name [project_name]: cifar10\n",
    "repo_name [cifar10]: cifar10\n",
    "author_name [Your name (or your organization/company/team)]: your_name\n",
    "author_email [Your email]: your_mail\n",
    "description [A short description of the project.]: CIFAR10 classification app\n",
    "app_version [Application version (expects X.Y.Z (Major.Minor.Patch))]: 1.0.0\n",
    "Select open_source_license:\n",
    "1 - MIT\n",
    "2 - BSD-3-Clause\n",
    "3 - No license file\n",
    "Choose from 1, 2, 3 (1, 2, 3) [1]: 1\n",
    "Select python_interpreter:\n",
    "1 - python3\n",
    "2 - python\n",
    "Choose from 1, 2 (1, 2) [1]: 1\n",
    "dockerhub_user [User account at hub.docker.com, e.g. 'deephdc' in https://hub.docker.com/u/deephdc]: your_docker_user\n",
    "docker_baseimage [Base Docker image for Dockerfile, e.g. tensorflow/tensorflow]: tensorflow/tensorflow\n",
    "baseimage_cpu_tag [CPU tag for the Base Docker image, e.g. 1.12.0-py3. Has to match python version!]: 1.12.0-py3\n",
    "baseimage_gpu_tag [GPU tag for the Base Docker image, e.g. 1.12.0-gpu-py3. Has to match python version!]: 1.12.0-gpu-py3"
   ]
  },
  {
   "cell_type": "markdown",
   "metadata": {},
   "source": [
    "This will create two project directories:"
   ]
  },
  {
   "cell_type": "raw",
   "metadata": {},
   "source": [
    "~/DEEP-OC-cifar10\n",
    "~/cifar10"
   ]
  },
  {
   "cell_type": "markdown",
   "metadata": {},
   "source": [
    "Go to github.com/your_account and create the corresponding repositories: **DEEP-OC-cifar10** and **cifar10**. \n"
   ]
  },
  {
   "cell_type": "markdown",
   "metadata": {},
   "source": [
    "Now enter in the directories you just created and do ``git push origin master`` in both created directories. This puts your initial code to github"
   ]
  },
  {
   "cell_type": "markdown",
   "metadata": {},
   "source": [
    "You are now ready to run the Docker container. For the moment it will just contain an empty model."
   ]
  },
  {
   "cell_type": "markdown",
   "metadata": {},
   "source": [
    "Go to the ``~/DEEP-OC-cifar10`` directory and build the docker image:"
   ]
  },
  {
   "cell_type": "raw",
   "metadata": {},
   "source": [
    "docker build -t cifar10docker ."
   ]
  },
  {
   "cell_type": "markdown",
   "metadata": {},
   "source": [
    "This will generate a docker image that you can check by doing:"
   ]
  },
  {
   "cell_type": "raw",
   "metadata": {},
   "source": [
    "docker images"
   ]
  },
  {
   "cell_type": "markdown",
   "metadata": {},
   "source": [
    "You can now run the container by doing:"
   ]
  },
  {
   "cell_type": "raw",
   "metadata": {},
   "source": [
    "docker run cifar10docker "
   ]
  },
  {
   "cell_type": "markdown",
   "metadata": {},
   "source": [
    "This will deploy the container and automatically run the DEEPaaS API. You can check the API in your lapton opening directly in your the web browser the following address:\n",
    "    \n",
    "   "
   ]
  },
  {
   "cell_type": "raw",
   "metadata": {},
   "source": [
    "your_VM_IP:5000"
   ]
  },
  {
   "cell_type": "markdown",
   "metadata": {},
   "source": [
    "You can easily check that right now there is no model loaded yet. For this, check the current metadata of the model and/or try to do some prediction."
   ]
  },
  {
   "cell_type": "code",
   "execution_count": null,
   "metadata": {},
   "outputs": [],
   "source": []
  },
  {
   "cell_type": "markdown",
   "metadata": {},
   "source": [
    "The structure of **cifar10** created using DEEP DS template contains the following core items needed to develop a DEEP DS model:"
   ]
  },
  {
   "cell_type": "raw",
   "metadata": {},
   "source": [
    "requirements.txt\n",
    "data/\n",
    "models/\n",
    "cifar10/dataset/make_dataset.py\n",
    "cifar10/features/build_features.py\n",
    "cifar10/models/model.py"
   ]
  },
  {
   "cell_type": "code",
   "execution_count": null,
   "metadata": {},
   "outputs": [],
   "source": []
  }
 ],
 "metadata": {
  "kernelspec": {
   "display_name": "Python 3",
   "language": "python",
   "name": "python3"
  },
  "language_info": {
   "codemirror_mode": {
    "name": "ipython",
    "version": 3
   },
   "file_extension": ".py",
   "mimetype": "text/x-python",
   "name": "python",
   "nbconvert_exporter": "python",
   "pygments_lexer": "ipython3",
   "version": "3.6.6"
  }
 },
 "nbformat": 4,
 "nbformat_minor": 2
}
